{
  "nbformat": 4,
  "nbformat_minor": 0,
  "metadata": {
    "colab": {
      "name": "Suicides.ipynb",
      "provenance": []
    },
    "kernelspec": {
      "name": "python3",
      "display_name": "Python 3"
    }
  },
  "cells": [
    {
      "cell_type": "code",
      "metadata": {
        "id": "h5Fum4qp22Ji",
        "colab_type": "code",
        "colab": {
          "base_uri": "https://localhost:8080/",
          "height": 407
        },
        "outputId": "b4eadba8-b51f-45e9-c185-80004793c714"
      },
      "source": [
        "import pandas as pd\n",
        "import matplotlib.pyplot as plt\n",
        "\n",
        "df = pd.read_csv(\"/content/drive/My Drive/Colab Notebooks/suicides/master.csv\")\n",
        "\n",
        "df = df.drop(df[df.country != 'Brazil'].index) #Vizualização apenas dos dados brasileiros\n",
        "df = df.drop(columns=['population','country-year','HDI for year','gdp_per_capita ($)']) #Colunas que não serão utéis\n",
        "\n",
        "df\n"
      ],
      "execution_count": 103,
      "outputs": [
        {
          "output_type": "execute_result",
          "data": {
            "text/html": [
              "<div>\n",
              "<style scoped>\n",
              "    .dataframe tbody tr th:only-of-type {\n",
              "        vertical-align: middle;\n",
              "    }\n",
              "\n",
              "    .dataframe tbody tr th {\n",
              "        vertical-align: top;\n",
              "    }\n",
              "\n",
              "    .dataframe thead th {\n",
              "        text-align: right;\n",
              "    }\n",
              "</style>\n",
              "<table border=\"1\" class=\"dataframe\">\n",
              "  <thead>\n",
              "    <tr style=\"text-align: right;\">\n",
              "      <th></th>\n",
              "      <th>country</th>\n",
              "      <th>year</th>\n",
              "      <th>sex</th>\n",
              "      <th>age</th>\n",
              "      <th>suicides_no</th>\n",
              "      <th>suicides/100k pop</th>\n",
              "      <th>gdp_for_year ($)</th>\n",
              "      <th>generation</th>\n",
              "    </tr>\n",
              "  </thead>\n",
              "  <tbody>\n",
              "    <tr>\n",
              "      <th>4172</th>\n",
              "      <td>Brazil</td>\n",
              "      <td>1985</td>\n",
              "      <td>male</td>\n",
              "      <td>75+ years</td>\n",
              "      <td>129</td>\n",
              "      <td>15.35</td>\n",
              "      <td>222,942,790,435</td>\n",
              "      <td>G.I. Generation</td>\n",
              "    </tr>\n",
              "    <tr>\n",
              "      <th>4173</th>\n",
              "      <td>Brazil</td>\n",
              "      <td>1985</td>\n",
              "      <td>male</td>\n",
              "      <td>55-74 years</td>\n",
              "      <td>535</td>\n",
              "      <td>9.97</td>\n",
              "      <td>222,942,790,435</td>\n",
              "      <td>G.I. Generation</td>\n",
              "    </tr>\n",
              "    <tr>\n",
              "      <th>4174</th>\n",
              "      <td>Brazil</td>\n",
              "      <td>1985</td>\n",
              "      <td>male</td>\n",
              "      <td>35-54 years</td>\n",
              "      <td>1011</td>\n",
              "      <td>8.43</td>\n",
              "      <td>222,942,790,435</td>\n",
              "      <td>Silent</td>\n",
              "    </tr>\n",
              "    <tr>\n",
              "      <th>4175</th>\n",
              "      <td>Brazil</td>\n",
              "      <td>1985</td>\n",
              "      <td>male</td>\n",
              "      <td>25-34 years</td>\n",
              "      <td>791</td>\n",
              "      <td>7.35</td>\n",
              "      <td>222,942,790,435</td>\n",
              "      <td>Boomers</td>\n",
              "    </tr>\n",
              "    <tr>\n",
              "      <th>4176</th>\n",
              "      <td>Brazil</td>\n",
              "      <td>1985</td>\n",
              "      <td>male</td>\n",
              "      <td>15-24 years</td>\n",
              "      <td>661</td>\n",
              "      <td>4.78</td>\n",
              "      <td>222,942,790,435</td>\n",
              "      <td>Generation X</td>\n",
              "    </tr>\n",
              "    <tr>\n",
              "      <th>...</th>\n",
              "      <td>...</td>\n",
              "      <td>...</td>\n",
              "      <td>...</td>\n",
              "      <td>...</td>\n",
              "      <td>...</td>\n",
              "      <td>...</td>\n",
              "      <td>...</td>\n",
              "      <td>...</td>\n",
              "    </tr>\n",
              "    <tr>\n",
              "      <th>4539</th>\n",
              "      <td>Brazil</td>\n",
              "      <td>2015</td>\n",
              "      <td>female</td>\n",
              "      <td>25-34 years</td>\n",
              "      <td>466</td>\n",
              "      <td>2.66</td>\n",
              "      <td>1,802,214,373,741</td>\n",
              "      <td>Millenials</td>\n",
              "    </tr>\n",
              "    <tr>\n",
              "      <th>4540</th>\n",
              "      <td>Brazil</td>\n",
              "      <td>2015</td>\n",
              "      <td>female</td>\n",
              "      <td>75+ years</td>\n",
              "      <td>89</td>\n",
              "      <td>2.34</td>\n",
              "      <td>1,802,214,373,741</td>\n",
              "      <td>Silent</td>\n",
              "    </tr>\n",
              "    <tr>\n",
              "      <th>4541</th>\n",
              "      <td>Brazil</td>\n",
              "      <td>2015</td>\n",
              "      <td>female</td>\n",
              "      <td>15-24 years</td>\n",
              "      <td>397</td>\n",
              "      <td>2.33</td>\n",
              "      <td>1,802,214,373,741</td>\n",
              "      <td>Millenials</td>\n",
              "    </tr>\n",
              "    <tr>\n",
              "      <th>4542</th>\n",
              "      <td>Brazil</td>\n",
              "      <td>2015</td>\n",
              "      <td>male</td>\n",
              "      <td>5-14 years</td>\n",
              "      <td>79</td>\n",
              "      <td>0.49</td>\n",
              "      <td>1,802,214,373,741</td>\n",
              "      <td>Generation Z</td>\n",
              "    </tr>\n",
              "    <tr>\n",
              "      <th>4543</th>\n",
              "      <td>Brazil</td>\n",
              "      <td>2015</td>\n",
              "      <td>female</td>\n",
              "      <td>5-14 years</td>\n",
              "      <td>56</td>\n",
              "      <td>0.36</td>\n",
              "      <td>1,802,214,373,741</td>\n",
              "      <td>Generation Z</td>\n",
              "    </tr>\n",
              "  </tbody>\n",
              "</table>\n",
              "<p>372 rows × 8 columns</p>\n",
              "</div>"
            ],
            "text/plain": [
              "     country  year  ...  gdp_for_year ($)        generation\n",
              "4172  Brazil  1985  ...    222,942,790,435  G.I. Generation\n",
              "4173  Brazil  1985  ...    222,942,790,435  G.I. Generation\n",
              "4174  Brazil  1985  ...    222,942,790,435           Silent\n",
              "4175  Brazil  1985  ...    222,942,790,435          Boomers\n",
              "4176  Brazil  1985  ...    222,942,790,435     Generation X\n",
              "...      ...   ...  ...                ...              ...\n",
              "4539  Brazil  2015  ...  1,802,214,373,741       Millenials\n",
              "4540  Brazil  2015  ...  1,802,214,373,741           Silent\n",
              "4541  Brazil  2015  ...  1,802,214,373,741       Millenials\n",
              "4542  Brazil  2015  ...  1,802,214,373,741     Generation Z\n",
              "4543  Brazil  2015  ...  1,802,214,373,741     Generation Z\n",
              "\n",
              "[372 rows x 8 columns]"
            ]
          },
          "metadata": {
            "tags": []
          },
          "execution_count": 103
        }
      ]
    },
    {
      "cell_type": "code",
      "metadata": {
        "id": "Fj3XqDoD8EmA",
        "colab_type": "code",
        "colab": {
          "base_uri": "https://localhost:8080/",
          "height": 299
        },
        "outputId": "31bb2f6a-a08d-4270-e3f2-59c0158d74a2"
      },
      "source": [
        "x = df['year']\n",
        "y = df['suicides_no']\n",
        "\n",
        "plt.title(\"Suicidios por ano\")\n",
        "plt.bar(x,y)"
      ],
      "execution_count": 100,
      "outputs": [
        {
          "output_type": "execute_result",
          "data": {
            "text/plain": [
              "<BarContainer object of 372 artists>"
            ]
          },
          "metadata": {
            "tags": []
          },
          "execution_count": 100
        },
        {
          "output_type": "display_data",
          "data": {
            "image/png": "[encoded data removed]",
            "text/plain": [
              "<Figure size 432x288 with 1 Axes>"
            ]
          },
          "metadata": {
            "tags": [],
            "needs_background": "light"
          }
        }
      ]
    },
    {
      "cell_type": "code",
      "metadata": {
        "id": "weJ1Fz3mIv-0",
        "colab_type": "code",
        "colab": {
          "base_uri": "https://localhost:8080/",
          "height": 299
        },
        "outputId": "17adeff6-76f7-4896-eb3d-a77c69838b11"
      },
      "source": [
        "x = df['generation']\n",
        "y = df['suicides_no']\n",
        "\n",
        "plt.title(\"Suicidos por geração\")\n",
        "plt.bar(x,y)"
      ],
      "execution_count": 99,
      "outputs": [
        {
          "output_type": "execute_result",
          "data": {
            "text/plain": [
              "<BarContainer object of 372 artists>"
            ]
          },
          "metadata": {
            "tags": []
          },
          "execution_count": 99
        },
        {
          "output_type": "display_data",
          "data": {
            "image/png": "[encoded data removed]",
            "text/plain": [
              "<Figure size 432x288 with 1 Axes>"
            ]
          },
          "metadata": {
            "tags": [],
            "needs_background": "light"
          }
        }
      ]
    },
    {
      "cell_type": "code",
      "metadata": {
        "id": "OpDD55hXK4fL",
        "colab_type": "code",
        "colab": {
          "base_uri": "https://localhost:8080/",
          "height": 299
        },
        "outputId": "655f7606-2ace-4905-d729-7296e6ac78dc"
      },
      "source": [
        "x = df['sex']\n",
        "\n",
        "plt.title(\"Suicidio por genero\")\n",
        "plt.bar(x,y)"
      ],
      "execution_count": 104,
      "outputs": [
        {
          "output_type": "execute_result",
          "data": {
            "text/plain": [
              "<BarContainer object of 372 artists>"
            ]
          },
          "metadata": {
            "tags": []
          },
          "execution_count": 104
        },
        {
          "output_type": "display_data",
          "data": {
            "image/png": "[encoded data removed]",
            "text/plain": [
              "<Figure size 432x288 with 1 Axes>"
            ]
          },
          "metadata": {
            "tags": [],
            "needs_background": "light"
          }
        }
      ]
    }
  ]
}